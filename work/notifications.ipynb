{
 "cells": [
  {
   "cell_type": "markdown",
   "metadata": {
    "tags": []
   },
   "source": [
    "# PySpark Notebook\n",
    "1. Run PostgreSQL ddl script\n",
    "2. Load CSV Data files\n",
    "3. Write Data to PostgreSQL source db\n",
    "4. Analyze Data with Spark SQL\n",
    "5. Transform data into hash values\n",
    "6. Write Data to PostgreSQL target db\n",
    "\n",
    "_Prepared by: [Noam Marianne]"
   ]
  },
  {
   "cell_type": "markdown",
   "metadata": {},
   "source": [
    "### Run PostgreSQL Script\n",
    "Run the PostgreSQL sql script"
   ]
  },
  {
   "cell_type": "code",
   "execution_count": 1,
   "metadata": {
    "pycharm": {
     "is_executing": false
    }
   },
   "outputs": [],
   "source": [
    "# ! pip install psycopg2-binary --upgrade --quiet"
   ]
  },
  {
   "cell_type": "code",
   "execution_count": 11,
   "metadata": {
    "pycharm": {
     "is_executing": false
    }
   },
   "outputs": [],
   "source": [
    "%run -i 'notifications_ddl.py'"
   ]
  },
  {
   "cell_type": "code",
   "execution_count": 12,
   "metadata": {
    "pycharm": {
     "is_executing": false
    }
   },
   "outputs": [],
   "source": [
    "from pyspark.sql import SparkSession\n",
    "import pyspark.sql.functions as F\n",
    "import hashlib\n",
    "from pyspark.sql.types import StructType, StructField, StringType, IntegerType"
   ]
  },
  {
   "cell_type": "code",
   "execution_count": 13,
   "metadata": {
    "pycharm": {
     "is_executing": false
    }
   },
   "outputs": [],
   "source": [
    "spark = SparkSession \\\n",
    "    .builder \\\n",
    "    .appName('pyspark_demo_app') \\\n",
    "    .config('spark.driver.extraClassPath',\n",
    "            'postgresql-42.2.10.jar') \\\n",
    "    .master(\"local[*]\") \\\n",
    "    .getOrCreate()"
   ]
  },
  {
   "cell_type": "markdown",
   "metadata": {},
   "source": [
    "### declare PostgreSQL source prop"
   ]
  },
  {
   "cell_type": "code",
   "execution_count": 14,
   "metadata": {
    "pycharm": {
     "is_executing": false
    }
   },
   "outputs": [],
   "source": [
    "properties = {\n",
    "    'driver': 'org.postgresql.Driver',\n",
    "    'url': 'jdbc:postgresql://postgres:5432/source',\n",
    "    'target_url': 'jdbc:postgresql://postgres:5432/target',\n",
    "    'user': 'postgres',\n",
    "    'password': 'postgres1234',\n",
    "    'dbtable': 'notifications',\n",
    "}"
   ]
  },
  {
   "cell_type": "markdown",
   "metadata": {},
   "source": [
    "### Create schema\n",
    "load csv into a DataFrame"
   ]
  },
  {
   "cell_type": "code",
   "execution_count": 15,
   "metadata": {
    "pycharm": {
     "is_executing": false
    }
   },
   "outputs": [
    {
     "name": "stdout",
     "output_type": "stream",
     "text": [
      "root\n",
      " |-- study_uid: string (nullable = true)\n",
      " |-- notification_time: string (nullable = true)\n",
      " |-- patient: string (nullable = true)\n",
      " |-- users: string (nullable = true)\n",
      "\n"
     ]
    }
   ],
   "source": [
    "# File location and type\n",
    "file_location = \"input_files/notifications_de.csv\"\n",
    "file_type = \"csv\"\n",
    "\n",
    "# CSV options\n",
    "infer_schema = \"false\"\n",
    "first_row_is_header = \"true\"\n",
    "delimiter = \",\"\n",
    "\n",
    "# The applied options are for CSV files. For other file types, these will be ignored.\n",
    "notifications_df = spark.read.format(file_type) \\\n",
    ".option(\"inferSchema\", infer_schema) \\\n",
    ".option(\"header\", first_row_is_header) \\\n",
    ".option(\"sep\", delimiter) \\\n",
    ".load(file_location)\n",
    "\n",
    "notifications_df.printSchema()"
   ]
  },
  {
   "cell_type": "code",
   "execution_count": 16,
   "metadata": {},
   "outputs": [
    {
     "name": "stdout",
     "output_type": "stream",
     "text": [
      "+----------------+--------------------+----------+--------------------+\n",
      "|       study_uid|   notification_time|   patient|               users|\n",
      "+----------------+--------------------+----------+--------------------+\n",
      "|0015d45c69610929|2020-02-04 00:15:...|5f8756d594|['3a0059f6-d1d5-4...|\n",
      "|0059463f90978066|2020-02-07 14:54:...|0d6be9f6c1|['0f7f6896-aaf2-4...|\n",
      "|02751c6845a97eea|2020-01-04 15:45:...|0b65c7ead0|['dbfaecd1-30b8-4...|\n",
      "|04d5018024393334|2020-01-15 20:15:...|172a90cf07|['7446f7a5-4d53-4...|\n",
      "|0576cf8cb6808188|2020-03-17 13:52:...|7e8cae205a|['d803830f-b0b9-4...|\n",
      "|06565643d6a1d401|2020-01-23 07:41:...|91cc6691ba|['7e0dc9cb-d33b-4...|\n",
      "|06c045b9a4b76e85|2020-02-25 09:10:...|bd5965dac7|['0d9113d0-8ac9-4...|\n",
      "|08ec378fbfaa58bd|2020-01-24 23:28:...|11b99e8fd1|['17f412c9-6c39-4...|\n",
      "|0a4b88135a000496|2020-02-10 01:44:...|9f25e9f8b6|['43a9f7ff-397f-4...|\n",
      "|0b585e959b612cfc|2020-02-17 15:59:...|3209dd5920|['73cdb8ba-590f-4...|\n",
      "|0d6039faed9c7347|2020-01-18 14:22:...|df8678fe3f|['0d9113d0-8ac9-4...|\n",
      "|0d721f0f75786a87|2020-02-20 16:25:...|20de7ffa11|['0d9113d0-8ac9-4...|\n",
      "|132274bc283c7a3c|2020-02-14 14:54:...|80276277c7|['73cdb8ba-590f-4...|\n",
      "|13a1e5b872dcf78c|2020-03-30 23:56:...|72852a7542|['14dfd39e-3d45-4...|\n",
      "|14b4fa9857be682e|2020-01-25 23:09:...|7b8e019905|['36cdc672-7a3b-4...|\n",
      "|197f7507a5e88d93|2020-01-05 06:36:...|1b2511b439|['67801cda-40e2-4...|\n",
      "|1b1168de5ae594ce|2020-02-08 22:00:...|b2c2172340|['2fa4ab48-607f-4...|\n",
      "|2162c2e350f08bfc|2020-01-01 18:45:...|3953f6f8a6|['14dfd39e-3d45-4...|\n",
      "|2318090c5289495e|2020-03-09 00:40:...|e442311c2b|['8854b430-4921-4...|\n",
      "|2a5c8f00e681d5af|2020-03-05 01:10:...|8315d7bd75|['67801cda-40e2-4...|\n",
      "+----------------+--------------------+----------+--------------------+\n",
      "only showing top 20 rows\n",
      "\n"
     ]
    },
    {
     "data": {
      "text/plain": [
       "94"
      ]
     },
     "execution_count": 16,
     "metadata": {},
     "output_type": "execute_result"
    }
   ],
   "source": [
    "notifications_df.show()\n",
    "notifications_df.count()"
   ]
  },
  {
   "cell_type": "code",
   "execution_count": null,
   "metadata": {},
   "outputs": [],
   "source": [
    "### enrich df with cre_datetime column"
   ]
  },
  {
   "cell_type": "code",
   "execution_count": 17,
   "metadata": {},
   "outputs": [
    {
     "name": "stdout",
     "output_type": "stream",
     "text": [
      "root\n",
      " |-- study_uid: string (nullable = true)\n",
      " |-- notification_time: string (nullable = true)\n",
      " |-- patient: string (nullable = true)\n",
      " |-- users: string (nullable = true)\n",
      " |-- cre_datetime: timestamp (nullable = false)\n",
      "\n"
     ]
    }
   ],
   "source": [
    "notifications_df = notifications_df.withColumn(\"cre_datetime\",F.current_timestamp())\n",
    "notifications_df.printSchema()"
   ]
  },
  {
   "cell_type": "code",
   "execution_count": 18,
   "metadata": {},
   "outputs": [
    {
     "name": "stdout",
     "output_type": "stream",
     "text": [
      "+----------------+--------------------+----------+--------------------+--------------------+\n",
      "|       study_uid|   notification_time|   patient|               users|        cre_datetime|\n",
      "+----------------+--------------------+----------+--------------------+--------------------+\n",
      "|0015d45c69610929|2020-02-04 00:15:...|5f8756d594|['3a0059f6-d1d5-4...|2022-03-12 19:32:...|\n",
      "|0059463f90978066|2020-02-07 14:54:...|0d6be9f6c1|['0f7f6896-aaf2-4...|2022-03-12 19:32:...|\n",
      "|02751c6845a97eea|2020-01-04 15:45:...|0b65c7ead0|['dbfaecd1-30b8-4...|2022-03-12 19:32:...|\n",
      "|04d5018024393334|2020-01-15 20:15:...|172a90cf07|['7446f7a5-4d53-4...|2022-03-12 19:32:...|\n",
      "|0576cf8cb6808188|2020-03-17 13:52:...|7e8cae205a|['d803830f-b0b9-4...|2022-03-12 19:32:...|\n",
      "|06565643d6a1d401|2020-01-23 07:41:...|91cc6691ba|['7e0dc9cb-d33b-4...|2022-03-12 19:32:...|\n",
      "|06c045b9a4b76e85|2020-02-25 09:10:...|bd5965dac7|['0d9113d0-8ac9-4...|2022-03-12 19:32:...|\n",
      "|08ec378fbfaa58bd|2020-01-24 23:28:...|11b99e8fd1|['17f412c9-6c39-4...|2022-03-12 19:32:...|\n",
      "|0a4b88135a000496|2020-02-10 01:44:...|9f25e9f8b6|['43a9f7ff-397f-4...|2022-03-12 19:32:...|\n",
      "|0b585e959b612cfc|2020-02-17 15:59:...|3209dd5920|['73cdb8ba-590f-4...|2022-03-12 19:32:...|\n",
      "|0d6039faed9c7347|2020-01-18 14:22:...|df8678fe3f|['0d9113d0-8ac9-4...|2022-03-12 19:32:...|\n",
      "|0d721f0f75786a87|2020-02-20 16:25:...|20de7ffa11|['0d9113d0-8ac9-4...|2022-03-12 19:32:...|\n",
      "|132274bc283c7a3c|2020-02-14 14:54:...|80276277c7|['73cdb8ba-590f-4...|2022-03-12 19:32:...|\n",
      "|13a1e5b872dcf78c|2020-03-30 23:56:...|72852a7542|['14dfd39e-3d45-4...|2022-03-12 19:32:...|\n",
      "|14b4fa9857be682e|2020-01-25 23:09:...|7b8e019905|['36cdc672-7a3b-4...|2022-03-12 19:32:...|\n",
      "|197f7507a5e88d93|2020-01-05 06:36:...|1b2511b439|['67801cda-40e2-4...|2022-03-12 19:32:...|\n",
      "|1b1168de5ae594ce|2020-02-08 22:00:...|b2c2172340|['2fa4ab48-607f-4...|2022-03-12 19:32:...|\n",
      "|2162c2e350f08bfc|2020-01-01 18:45:...|3953f6f8a6|['14dfd39e-3d45-4...|2022-03-12 19:32:...|\n",
      "|2318090c5289495e|2020-03-09 00:40:...|e442311c2b|['8854b430-4921-4...|2022-03-12 19:32:...|\n",
      "|2a5c8f00e681d5af|2020-03-05 01:10:...|8315d7bd75|['67801cda-40e2-4...|2022-03-12 19:32:...|\n",
      "+----------------+--------------------+----------+--------------------+--------------------+\n",
      "only showing top 20 rows\n",
      "\n"
     ]
    }
   ],
   "source": [
    "notifications_df.show()"
   ]
  },
  {
   "cell_type": "markdown",
   "metadata": {
    "tags": []
   },
   "source": [
    "### Write to PostgreSQL source db Table"
   ]
  },
  {
   "cell_type": "code",
   "execution_count": 19,
   "metadata": {},
   "outputs": [],
   "source": [
    "notifications_df.write \\\n",
    "    .format('jdbc') \\\n",
    "    .option('driver', properties['driver']) \\\n",
    "    .option('url', properties['url']) \\\n",
    "    .option('user', properties['user']) \\\n",
    "    .option('password', properties['password']) \\\n",
    "    .option('dbtable', properties['dbtable']) \\\n",
    "    .mode('append') \\\n",
    "    .save()"
   ]
  },
  {
   "cell_type": "code",
   "execution_count": null,
   "metadata": {},
   "outputs": [],
   "source": [
    "### read data from PostgreSQL source db Table"
   ]
  },
  {
   "cell_type": "code",
   "execution_count": 20,
   "metadata": {},
   "outputs": [
    {
     "name": "stdout",
     "output_type": "stream",
     "text": [
      "root\n",
      " |-- study_uid: string (nullable = true)\n",
      " |-- notification_time: string (nullable = true)\n",
      " |-- patient: string (nullable = true)\n",
      " |-- users: string (nullable = true)\n",
      " |-- cre_datetime: timestamp (nullable = true)\n",
      "\n"
     ]
    }
   ],
   "source": [
    "notifications_df_from_db = spark.read \\\n",
    "    .format('jdbc') \\\n",
    "    .option('driver', properties['driver']) \\\n",
    "    .option('url', properties['url']) \\\n",
    "    .option('user', properties['user']) \\\n",
    "    .option('password', properties['password']) \\\n",
    "    .option('dbtable', properties['dbtable']) \\\n",
    "    .load()\n",
    "\n",
    "notifications_df_from_db.printSchema()"
   ]
  },
  {
   "cell_type": "code",
   "execution_count": 21,
   "metadata": {},
   "outputs": [
    {
     "name": "stdout",
     "output_type": "stream",
     "text": [
      "+----------------+--------------------+----------+--------------------+--------------------+\n",
      "|       study_uid|   notification_time|   patient|               users|        cre_datetime|\n",
      "+----------------+--------------------+----------+--------------------+--------------------+\n",
      "|0015d45c69610929|2020-02-04 00:15:...|5f8756d594|['3a0059f6-d1d5-4...|2022-03-12 19:32:...|\n",
      "|0059463f90978066|2020-02-07 14:54:...|0d6be9f6c1|['0f7f6896-aaf2-4...|2022-03-12 19:32:...|\n",
      "|02751c6845a97eea|2020-01-04 15:45:...|0b65c7ead0|['dbfaecd1-30b8-4...|2022-03-12 19:32:...|\n",
      "|04d5018024393334|2020-01-15 20:15:...|172a90cf07|['7446f7a5-4d53-4...|2022-03-12 19:32:...|\n",
      "|0576cf8cb6808188|2020-03-17 13:52:...|7e8cae205a|['d803830f-b0b9-4...|2022-03-12 19:32:...|\n",
      "|06565643d6a1d401|2020-01-23 07:41:...|91cc6691ba|['7e0dc9cb-d33b-4...|2022-03-12 19:32:...|\n",
      "|06c045b9a4b76e85|2020-02-25 09:10:...|bd5965dac7|['0d9113d0-8ac9-4...|2022-03-12 19:32:...|\n",
      "|08ec378fbfaa58bd|2020-01-24 23:28:...|11b99e8fd1|['17f412c9-6c39-4...|2022-03-12 19:32:...|\n",
      "|0a4b88135a000496|2020-02-10 01:44:...|9f25e9f8b6|['43a9f7ff-397f-4...|2022-03-12 19:32:...|\n",
      "|0b585e959b612cfc|2020-02-17 15:59:...|3209dd5920|['73cdb8ba-590f-4...|2022-03-12 19:32:...|\n",
      "+----------------+--------------------+----------+--------------------+--------------------+\n",
      "only showing top 10 rows\n",
      "\n"
     ]
    },
    {
     "data": {
      "text/plain": [
       "94"
      ]
     },
     "execution_count": 21,
     "metadata": {},
     "output_type": "execute_result"
    }
   ],
   "source": [
    "notifications_df_from_db.show(10)\n",
    "notifications_df_from_db.count()"
   ]
  },
  {
   "cell_type": "markdown",
   "metadata": {},
   "source": [
    "### Analyze Data with Spark SQL\n",
    "Analyze the DataFrame's users data using Spark SQL"
   ]
  },
  {
   "cell_type": "code",
   "execution_count": 22,
   "metadata": {},
   "outputs": [
    {
     "name": "stdout",
     "output_type": "stream",
     "text": [
      "+-----------------+--------------------+\n",
      "|cnt_study_with_id|cnt_study_without_id|\n",
      "+-----------------+--------------------+\n",
      "|               94|                   0|\n",
      "+-----------------+--------------------+\n",
      "\n"
     ]
    }
   ],
   "source": [
    "notifications_df_from_db.createOrReplaceTempView(\"notifications\")\n",
    "df_sql = spark.sql(\"SELECT sum(case when study_uid is null then 0 else 1 end) as cnt_study_with_id, \" +\n",
    "                \"sum(case when study_uid is null then 1 else 0 end) as cnt_study_without_id FROM notifications\")\n",
    "df_sql.show(10)"
   ]
  },
  {
   "cell_type": "code",
   "execution_count": null,
   "metadata": {},
   "outputs": [],
   "source": [
    "### Transform Data"
   ]
  },
  {
   "cell_type": "code",
   "execution_count": 23,
   "metadata": {},
   "outputs": [],
   "source": [
    "#   Define the UDF function\n",
    "def algo(input_string):\n",
    "    if (input_string):\n",
    "        encoded_string = input_string.encode(\"utf-8\")\n",
    "    else:\n",
    "        encoded_string = \"none\".encode(\"utf-8\")\n",
    "    return hashlib.sha256(encoded_string).hexdigest()\n",
    "\n",
    "#   Register the UDF function.\n",
    "algo_udf = spark.udf.register(\"algo\", algo)"
   ]
  },
  {
   "cell_type": "code",
   "execution_count": 24,
   "metadata": {},
   "outputs": [
    {
     "name": "stdout",
     "output_type": "stream",
     "text": [
      "+--------------------+--------------------+--------------------+--------------------+--------------------+\n",
      "|           study_uid|   notification_time|             patient|               users|        cre_datetime|\n",
      "+--------------------+--------------------+--------------------+--------------------+--------------------+\n",
      "|6ba45a43203d0abdd...|2020-02-04 00:15:...|62f8be4752ca8bd36...|86f5cf619f2752606...|2022-03-12 19:32:...|\n",
      "|8955ac073e0d939eb...|2020-02-07 14:54:...|f6d830d544c22d41d...|e1e333f683471a50f...|2022-03-12 19:32:...|\n",
      "|58cff85daeb2f2caf...|2020-01-04 15:45:...|a1689d3c646bdcf41...|53837b0c12daff4df...|2022-03-12 19:32:...|\n",
      "|074239cc33a4f8cae...|2020-01-15 20:15:...|f9801e7ed64829a63...|3e15d21ed730ad5ac...|2022-03-12 19:32:...|\n",
      "|159fdad72e8102c0f...|2020-03-17 13:52:...|fb2c9564b1a28cb67...|eba2dcf456842b16e...|2022-03-12 19:32:...|\n",
      "|1fa426fd5145e49f8...|2020-01-23 07:41:...|0dec190452af43270...|3e4bcef112b96e76f...|2022-03-12 19:32:...|\n",
      "|0495ce13f998a49d3...|2020-02-25 09:10:...|90c7daa8e52c2b976...|a05d68275376cacce...|2022-03-12 19:32:...|\n",
      "|026a8b40cae7ea10e...|2020-01-24 23:28:...|f1960380ff44ceee3...|5f5de32d2b5132425...|2022-03-12 19:32:...|\n",
      "|87964fecb321eebb8...|2020-02-10 01:44:...|73c56429678dabd77...|87e4456f17fed0675...|2022-03-12 19:32:...|\n",
      "|21de35797f25d82fc...|2020-02-17 15:59:...|0a256c1c5b4ea5c90...|6879b7c3f1334eac6...|2022-03-12 19:32:...|\n",
      "+--------------------+--------------------+--------------------+--------------------+--------------------+\n",
      "only showing top 10 rows\n",
      "\n"
     ]
    }
   ],
   "source": [
    "notifications_df_from_db.createOrReplaceTempView(\"notifications\")\n",
    "df_sql = spark.sql(\"SELECT algo(study_uid) as study_uid, notification_time, algo(patient) as patient, algo(users) as users, current_timestamp() as cre_datetime FROM notifications\")\n",
    "df_sql.show(10)"
   ]
  },
  {
   "cell_type": "code",
   "execution_count": 8,
   "metadata": {},
   "outputs": [
    {
     "name": "stdout",
     "output_type": "stream",
     "text": [
      "root\n",
      " |-- name: string (nullable = true)\n",
      " |-- address: string (nullable = true)\n",
      " |-- user_uid: string (nullable = true)\n",
      " |-- cre_datetime: timestamp (nullable = true)\n",
      " |-- name_hashed: string (nullable = true)\n",
      " |-- address_hashed: string (nullable = true)\n",
      " |-- user_uid_hashed: string (nullable = true)\n",
      "\n"
     ]
    }
   ],
   "source": [
    "### Write users_df to PostgreSQL target db Table"
   ]
  },
  {
   "cell_type": "code",
   "execution_count": 25,
   "metadata": {},
   "outputs": [],
   "source": [
    "df_sql.write \\\n",
    "    .format('jdbc') \\\n",
    "    .option('driver', properties['driver']) \\\n",
    "    .option('url', properties['target_url']) \\\n",
    "    .option('user', properties['user']) \\\n",
    "    .option('password', properties['password']) \\\n",
    "    .option('dbtable', properties['dbtable']) \\\n",
    "    .mode('append') \\\n",
    "    .save()"
   ]
  },
  {
   "cell_type": "code",
   "execution_count": null,
   "metadata": {},
   "outputs": [],
   "source": [
    "### read data from PostgreSQL target db Table"
   ]
  },
  {
   "cell_type": "code",
   "execution_count": 26,
   "metadata": {},
   "outputs": [
    {
     "name": "stdout",
     "output_type": "stream",
     "text": [
      "root\n",
      " |-- study_uid: string (nullable = true)\n",
      " |-- notification_time: string (nullable = true)\n",
      " |-- patient: string (nullable = true)\n",
      " |-- users: string (nullable = true)\n",
      " |-- cre_datetime: timestamp (nullable = true)\n",
      "\n"
     ]
    }
   ],
   "source": [
    "notifications_df_from_target_db = spark.read \\\n",
    "    .format('jdbc') \\\n",
    "    .option('driver', properties['driver']) \\\n",
    "    .option('url', properties['target_url']) \\\n",
    "    .option('user', properties['user']) \\\n",
    "    .option('password', properties['password']) \\\n",
    "    .option('dbtable', properties['dbtable']) \\\n",
    "    .load()\n",
    "\n",
    "notifications_df_from_target_db.printSchema()"
   ]
  },
  {
   "cell_type": "code",
   "execution_count": 27,
   "metadata": {},
   "outputs": [
    {
     "name": "stdout",
     "output_type": "stream",
     "text": [
      "+--------------------+--------------------+--------------------+--------------------+--------------------+\n",
      "|           study_uid|   notification_time|             patient|               users|        cre_datetime|\n",
      "+--------------------+--------------------+--------------------+--------------------+--------------------+\n",
      "|6ba45a43203d0abdd...|2020-02-04 00:15:...|62f8be4752ca8bd36...|86f5cf619f2752606...|2022-03-12 19:33:...|\n",
      "|8955ac073e0d939eb...|2020-02-07 14:54:...|f6d830d544c22d41d...|e1e333f683471a50f...|2022-03-12 19:33:...|\n",
      "|58cff85daeb2f2caf...|2020-01-04 15:45:...|a1689d3c646bdcf41...|53837b0c12daff4df...|2022-03-12 19:33:...|\n",
      "|074239cc33a4f8cae...|2020-01-15 20:15:...|f9801e7ed64829a63...|3e15d21ed730ad5ac...|2022-03-12 19:33:...|\n",
      "|159fdad72e8102c0f...|2020-03-17 13:52:...|fb2c9564b1a28cb67...|eba2dcf456842b16e...|2022-03-12 19:33:...|\n",
      "|1fa426fd5145e49f8...|2020-01-23 07:41:...|0dec190452af43270...|3e4bcef112b96e76f...|2022-03-12 19:33:...|\n",
      "|0495ce13f998a49d3...|2020-02-25 09:10:...|90c7daa8e52c2b976...|a05d68275376cacce...|2022-03-12 19:33:...|\n",
      "|026a8b40cae7ea10e...|2020-01-24 23:28:...|f1960380ff44ceee3...|5f5de32d2b5132425...|2022-03-12 19:33:...|\n",
      "|87964fecb321eebb8...|2020-02-10 01:44:...|73c56429678dabd77...|87e4456f17fed0675...|2022-03-12 19:33:...|\n",
      "|21de35797f25d82fc...|2020-02-17 15:59:...|0a256c1c5b4ea5c90...|6879b7c3f1334eac6...|2022-03-12 19:33:...|\n",
      "+--------------------+--------------------+--------------------+--------------------+--------------------+\n",
      "only showing top 10 rows\n",
      "\n"
     ]
    }
   ],
   "source": [
    "notifications_df_from_target_db.show(10)"
   ]
  },
  {
   "cell_type": "code",
   "execution_count": null,
   "metadata": {},
   "outputs": [],
   "source": []
  }
 ],
 "metadata": {
  "kernelspec": {
   "display_name": "Python 3 (ipykernel)",
   "language": "python",
   "name": "python3"
  },
  "language_info": {
   "codemirror_mode": {
    "name": "ipython",
    "version": 3
   },
   "file_extension": ".py",
   "mimetype": "text/x-python",
   "name": "python",
   "nbconvert_exporter": "python",
   "pygments_lexer": "ipython3",
   "version": "3.9.10"
  },
  "pycharm": {
   "stem_cell": {
    "cell_type": "raw",
    "metadata": {
     "collapsed": false
    },
    "source": []
   }
  }
 },
 "nbformat": 4,
 "nbformat_minor": 4
}
