{
 "cells": [
  {
   "cell_type": "markdown",
   "metadata": {
    "tags": []
   },
   "source": [
    "# PySpark Notebook\n",
    "1. Run PostgreSQL ddl script\n",
    "2. Load CSV Data files\n",
    "3. Write Data to PostgreSQL source db\n",
    "4. Analyze Data with Spark SQL\n",
    "5. Transform data into hash values\n",
    "6. Write Data to PostgreSQL target db\n",
    "\n",
    "_Prepared by: [Noam Marianne]"
   ]
  },
  {
   "cell_type": "markdown",
   "metadata": {},
   "source": [
    "### Run PostgreSQL Script\n",
    "Run the PostgreSQL sql script"
   ]
  },
  {
   "cell_type": "code",
   "execution_count": 1,
   "metadata": {
    "pycharm": {
     "is_executing": false
    }
   },
   "outputs": [],
   "source": [
    "# ! pip install psycopg2-binary --upgrade --quiet"
   ]
  },
  {
   "cell_type": "code",
   "execution_count": 2,
   "metadata": {
    "pycharm": {
     "is_executing": false
    }
   },
   "outputs": [],
   "source": [
    "%run -i 'users_ddl.py'"
   ]
  },
  {
   "cell_type": "code",
   "execution_count": 3,
   "metadata": {
    "pycharm": {
     "is_executing": false
    }
   },
   "outputs": [],
   "source": [
    "from pyspark.sql import SparkSession\n",
    "import pyspark.sql.functions as F\n",
    "import hashlib\n",
    "from pyspark.sql.types import StructType, StructField, StringType, IntegerType"
   ]
  },
  {
   "cell_type": "code",
   "execution_count": 4,
   "metadata": {
    "pycharm": {
     "is_executing": false
    }
   },
   "outputs": [],
   "source": [
    "spark = SparkSession \\\n",
    "    .builder \\\n",
    "    .appName('pyspark_demo_app') \\\n",
    "    .config('spark.driver.extraClassPath',\n",
    "            'postgresql-42.2.10.jar') \\\n",
    "    .master(\"local[*]\") \\\n",
    "    .getOrCreate()"
   ]
  },
  {
   "cell_type": "markdown",
   "metadata": {},
   "source": [
    "### declare PostgreSQL source prop"
   ]
  },
  {
   "cell_type": "code",
   "execution_count": 5,
   "metadata": {
    "pycharm": {
     "is_executing": false
    }
   },
   "outputs": [],
   "source": [
    "properties = {\n",
    "    'driver': 'org.postgresql.Driver',\n",
    "    'url': 'jdbc:postgresql://postgres:5432/source',\n",
    "    'target_url': 'jdbc:postgresql://postgres:5432/target',\n",
    "    'user': 'postgres',\n",
    "    'password': 'postgres1234',\n",
    "    'dbtable': 'users',\n",
    "}"
   ]
  },
  {
   "cell_type": "markdown",
   "metadata": {},
   "source": [
    "### Create schema\n",
    "load users csv into a DataFrame"
   ]
  },
  {
   "cell_type": "code",
   "execution_count": 6,
   "metadata": {
    "pycharm": {
     "is_executing": false
    }
   },
   "outputs": [
    {
     "name": "stdout",
     "output_type": "stream",
     "text": [
      "root\n",
      " |-- name: string (nullable = true)\n",
      " |-- address: string (nullable = true)\n",
      " |-- user_uid: string (nullable = true)\n",
      "\n"
     ]
    }
   ],
   "source": [
    "# File location and type\n",
    "file_location = \"input_files/users_de.csv\"\n",
    "file_type = \"csv\"\n",
    "\n",
    "# CSV options\n",
    "infer_schema = \"false\"\n",
    "first_row_is_header = \"true\"\n",
    "delimiter = \",\"\n",
    "\n",
    "# The applied options are for CSV files. For other file types, these will be ignored.\n",
    "users_df = spark.read.format(file_type) \\\n",
    ".option(\"inferSchema\", infer_schema) \\\n",
    ".option(\"header\", first_row_is_header) \\\n",
    ".option(\"sep\", delimiter) \\\n",
    ".load(file_location)\n",
    "\n",
    "users_df.printSchema()"
   ]
  },
  {
   "cell_type": "code",
   "execution_count": 7,
   "metadata": {},
   "outputs": [
    {
     "name": "stdout",
     "output_type": "stream",
     "text": [
      "+------------------+--------------------+--------------------+\n",
      "|              name|             address|            user_uid|\n",
      "+------------------+--------------------+--------------------+\n",
      "|     Jacob Lambert|    7992 Amber Trace|                null|\n",
      "|     Port Clifford|           MI 17651\"|62e50cd2-9844-4bf...|\n",
      "|        Ryan Short|966 Dana Ford Apt...|                null|\n",
      "|        South Cory|           ME 03533\"|081dcf15-a0f3-401...|\n",
      "|   Brian Henderson|8574 Kathryn Club...|                null|\n",
      "|         Grantfort|           MA 30163\"|67801cda-40e2-4cf...|\n",
      "|Christopher Wilson|  7008 Hoffman Trail|                null|\n",
      "|       New Amytown|           AL 76586\"|1445efee-26e8-48d...|\n",
      "|      Patrick Lane| 54302 White Parkway|                null|\n",
      "|    Adrianachester|           WI 93258\"|841bf619-e8d0-4ad...|\n",
      "|      Bryan Prince|  PSC 0164, Box 5614|                null|\n",
      "|     APO AE 05076\"|a2d178e9-f431-4de...|                null|\n",
      "|     Taylor Dudley|5941 Gonzales Uni...|                null|\n",
      "|       Kristamouth|           WA 85233\"|2fa4ab48-607f-4fb...|\n",
      "|    William Thomas|92939 Anthony Cro...|                null|\n",
      "|       Andrewhaven|           NC 59747\"|b96490c0-efeb-48c...|\n",
      "|          Ryan Lee|1582 Williams Poi...|                null|\n",
      "|          Ricestad|           HI 31859\"|3081abf0-5e41-437...|\n",
      "|    Kelly Santiago|    5646 Hall Stream|                null|\n",
      "|          Amyville|           KY 37490\"|ea8a7da3-56df-436...|\n",
      "+------------------+--------------------+--------------------+\n",
      "only showing top 20 rows\n",
      "\n"
     ]
    },
    {
     "data": {
      "text/plain": [
       "200"
      ]
     },
     "execution_count": 7,
     "metadata": {},
     "output_type": "execute_result"
    }
   ],
   "source": [
    "users_df.show()\n",
    "users_df.count()"
   ]
  },
  {
   "cell_type": "code",
   "execution_count": null,
   "metadata": {},
   "outputs": [],
   "source": [
    "### enrich df with cre_datetime column"
   ]
  },
  {
   "cell_type": "code",
   "execution_count": 8,
   "metadata": {},
   "outputs": [
    {
     "name": "stdout",
     "output_type": "stream",
     "text": [
      "root\n",
      " |-- name: string (nullable = true)\n",
      " |-- address: string (nullable = true)\n",
      " |-- user_uid: string (nullable = true)\n",
      " |-- cre_datetime: timestamp (nullable = false)\n",
      "\n"
     ]
    }
   ],
   "source": [
    "users_df = users_df.withColumn(\"cre_datetime\",F.current_timestamp())\n",
    "users_df.printSchema()"
   ]
  },
  {
   "cell_type": "code",
   "execution_count": 9,
   "metadata": {},
   "outputs": [
    {
     "name": "stdout",
     "output_type": "stream",
     "text": [
      "+------------------+--------------------+--------------------+--------------------+\n",
      "|              name|             address|            user_uid|        cre_datetime|\n",
      "+------------------+--------------------+--------------------+--------------------+\n",
      "|     Jacob Lambert|    7992 Amber Trace|                null|2022-03-12 19:28:...|\n",
      "|     Port Clifford|           MI 17651\"|62e50cd2-9844-4bf...|2022-03-12 19:28:...|\n",
      "|        Ryan Short|966 Dana Ford Apt...|                null|2022-03-12 19:28:...|\n",
      "|        South Cory|           ME 03533\"|081dcf15-a0f3-401...|2022-03-12 19:28:...|\n",
      "|   Brian Henderson|8574 Kathryn Club...|                null|2022-03-12 19:28:...|\n",
      "|         Grantfort|           MA 30163\"|67801cda-40e2-4cf...|2022-03-12 19:28:...|\n",
      "|Christopher Wilson|  7008 Hoffman Trail|                null|2022-03-12 19:28:...|\n",
      "|       New Amytown|           AL 76586\"|1445efee-26e8-48d...|2022-03-12 19:28:...|\n",
      "|      Patrick Lane| 54302 White Parkway|                null|2022-03-12 19:28:...|\n",
      "|    Adrianachester|           WI 93258\"|841bf619-e8d0-4ad...|2022-03-12 19:28:...|\n",
      "|      Bryan Prince|  PSC 0164, Box 5614|                null|2022-03-12 19:28:...|\n",
      "|     APO AE 05076\"|a2d178e9-f431-4de...|                null|2022-03-12 19:28:...|\n",
      "|     Taylor Dudley|5941 Gonzales Uni...|                null|2022-03-12 19:28:...|\n",
      "|       Kristamouth|           WA 85233\"|2fa4ab48-607f-4fb...|2022-03-12 19:28:...|\n",
      "|    William Thomas|92939 Anthony Cro...|                null|2022-03-12 19:28:...|\n",
      "|       Andrewhaven|           NC 59747\"|b96490c0-efeb-48c...|2022-03-12 19:28:...|\n",
      "|          Ryan Lee|1582 Williams Poi...|                null|2022-03-12 19:28:...|\n",
      "|          Ricestad|           HI 31859\"|3081abf0-5e41-437...|2022-03-12 19:28:...|\n",
      "|    Kelly Santiago|    5646 Hall Stream|                null|2022-03-12 19:28:...|\n",
      "|          Amyville|           KY 37490\"|ea8a7da3-56df-436...|2022-03-12 19:28:...|\n",
      "+------------------+--------------------+--------------------+--------------------+\n",
      "only showing top 20 rows\n",
      "\n"
     ]
    }
   ],
   "source": [
    "users_df.show()"
   ]
  },
  {
   "cell_type": "markdown",
   "metadata": {
    "tags": []
   },
   "source": [
    "### Write to PostgreSQL source db Table"
   ]
  },
  {
   "cell_type": "code",
   "execution_count": 10,
   "metadata": {},
   "outputs": [],
   "source": [
    "users_df.write \\\n",
    "    .format('jdbc') \\\n",
    "    .option('driver', properties['driver']) \\\n",
    "    .option('url', properties['url']) \\\n",
    "    .option('user', properties['user']) \\\n",
    "    .option('password', properties['password']) \\\n",
    "    .option('dbtable', properties['dbtable']) \\\n",
    "    .mode('append') \\\n",
    "    .save()"
   ]
  },
  {
   "cell_type": "code",
   "execution_count": null,
   "metadata": {},
   "outputs": [],
   "source": [
    "### read data from PostgreSQL source db Table"
   ]
  },
  {
   "cell_type": "code",
   "execution_count": 11,
   "metadata": {},
   "outputs": [
    {
     "name": "stdout",
     "output_type": "stream",
     "text": [
      "root\n",
      " |-- name: string (nullable = true)\n",
      " |-- address: string (nullable = true)\n",
      " |-- user_uid: string (nullable = true)\n",
      " |-- cre_datetime: timestamp (nullable = true)\n",
      "\n"
     ]
    }
   ],
   "source": [
    "users_df_from_db = spark.read \\\n",
    "    .format('jdbc') \\\n",
    "    .option('driver', properties['driver']) \\\n",
    "    .option('url', properties['url']) \\\n",
    "    .option('user', properties['user']) \\\n",
    "    .option('password', properties['password']) \\\n",
    "    .option('dbtable', properties['dbtable']) \\\n",
    "    .load()\n",
    "\n",
    "users_df_from_db.printSchema()"
   ]
  },
  {
   "cell_type": "code",
   "execution_count": 12,
   "metadata": {},
   "outputs": [
    {
     "name": "stdout",
     "output_type": "stream",
     "text": [
      "+------------------+--------------------+--------------------+--------------------+\n",
      "|              name|             address|            user_uid|        cre_datetime|\n",
      "+------------------+--------------------+--------------------+--------------------+\n",
      "|     Jacob Lambert|    7992 Amber Trace|                null|2022-03-12 19:28:...|\n",
      "|     Port Clifford|           MI 17651\"|62e50cd2-9844-4bf...|2022-03-12 19:28:...|\n",
      "|        Ryan Short|966 Dana Ford Apt...|                null|2022-03-12 19:28:...|\n",
      "|        South Cory|           ME 03533\"|081dcf15-a0f3-401...|2022-03-12 19:28:...|\n",
      "|   Brian Henderson|8574 Kathryn Club...|                null|2022-03-12 19:28:...|\n",
      "|         Grantfort|           MA 30163\"|67801cda-40e2-4cf...|2022-03-12 19:28:...|\n",
      "|Christopher Wilson|  7008 Hoffman Trail|                null|2022-03-12 19:28:...|\n",
      "|       New Amytown|           AL 76586\"|1445efee-26e8-48d...|2022-03-12 19:28:...|\n",
      "|      Patrick Lane| 54302 White Parkway|                null|2022-03-12 19:28:...|\n",
      "|    Adrianachester|           WI 93258\"|841bf619-e8d0-4ad...|2022-03-12 19:28:...|\n",
      "+------------------+--------------------+--------------------+--------------------+\n",
      "only showing top 10 rows\n",
      "\n"
     ]
    },
    {
     "data": {
      "text/plain": [
       "200"
      ]
     },
     "execution_count": 12,
     "metadata": {},
     "output_type": "execute_result"
    }
   ],
   "source": [
    "users_df_from_db.show(10)\n",
    "users_df_from_db.count()"
   ]
  },
  {
   "cell_type": "markdown",
   "metadata": {},
   "source": [
    "### Analyze Data with Spark SQL"
   ]
  },
  {
   "cell_type": "code",
   "execution_count": 13,
   "metadata": {},
   "outputs": [
    {
     "name": "stdout",
     "output_type": "stream",
     "text": [
      "+-----------------+--------------------+\n",
      "|cnt_users_with_id|cnt_users_without_id|\n",
      "+-----------------+--------------------+\n",
      "|               90|                 110|\n",
      "+-----------------+--------------------+\n",
      "\n"
     ]
    }
   ],
   "source": [
    "users_df_from_db.createOrReplaceTempView(\"users\")\n",
    "df_sql = spark.sql(\"SELECT sum(case when user_uid is null then 0 else 1 end) as cnt_users_with_id, \" +\n",
    "                \"sum(case when user_uid is null then 1 else 0 end) as cnt_users_without_id FROM users\")\n",
    "df_sql.show(10)"
   ]
  },
  {
   "cell_type": "code",
   "execution_count": null,
   "metadata": {},
   "outputs": [],
   "source": [
    "### Transform Data"
   ]
  },
  {
   "cell_type": "code",
   "execution_count": 14,
   "metadata": {},
   "outputs": [],
   "source": [
    "#   Define the UDF function\n",
    "def algo(input_string):\n",
    "    if (input_string):\n",
    "        encoded_string = input_string.encode(\"utf-8\")\n",
    "    else:\n",
    "        encoded_string = \"none\".encode(\"utf-8\")\n",
    "    return hashlib.sha256(encoded_string).hexdigest()\n",
    "\n",
    "#   Register the UDF function.\n",
    "algo_udf = spark.udf.register(\"algo\", algo)"
   ]
  },
  {
   "cell_type": "code",
   "execution_count": 15,
   "metadata": {},
   "outputs": [
    {
     "name": "stdout",
     "output_type": "stream",
     "text": [
      "+--------------------+--------------------+--------------------+--------------------+\n",
      "|                name|             address|            user_uid|        cre_datetime|\n",
      "+--------------------+--------------------+--------------------+--------------------+\n",
      "|fd1aa8d0bd441275a...|bb9e087631b08eda3...|140bedbf9c3f6d56a...|2022-03-12 19:28:...|\n",
      "|46185a59c07cc6ab8...|29e02c36d792893e1...|f7ab56e55b0a35a11...|2022-03-12 19:28:...|\n",
      "|33ef16bc42d0dcd92...|befa6f7fca9b370e5...|140bedbf9c3f6d56a...|2022-03-12 19:28:...|\n",
      "|46e623e8f41abc5eb...|2e0e640962814f79a...|cf291219e9be361a0...|2022-03-12 19:28:...|\n",
      "|eda0eafffd48a7df9...|a32f5b2f9c54a5bd3...|140bedbf9c3f6d56a...|2022-03-12 19:28:...|\n",
      "|a2f1ac6b5d7e6104a...|f5cd793677a84529e...|4438d389d7709e1e5...|2022-03-12 19:28:...|\n",
      "|c7f9f0661c78bab99...|f564a512d15d7ce58...|140bedbf9c3f6d56a...|2022-03-12 19:28:...|\n",
      "|2026550fc3e67cc3a...|e7147d9715689a178...|b9c85274f66b0716b...|2022-03-12 19:28:...|\n",
      "|ae23696d8db28761f...|6a051be4beb4a54eb...|140bedbf9c3f6d56a...|2022-03-12 19:28:...|\n",
      "|f6cf30676477593a2...|453fc9b5b5da2e27a...|4f10ded91a2a6242b...|2022-03-12 19:28:...|\n",
      "+--------------------+--------------------+--------------------+--------------------+\n",
      "only showing top 10 rows\n",
      "\n"
     ]
    }
   ],
   "source": [
    "users_df_from_db.createOrReplaceTempView(\"users\")\n",
    "df_sql = spark.sql(\"SELECT algo(name) as name, algo(address) as address, algo(user_uid) as user_uid, current_timestamp() as cre_datetime FROM users\")\n",
    "df_sql.show(10)"
   ]
  },
  {
   "cell_type": "code",
   "execution_count": 8,
   "metadata": {},
   "outputs": [
    {
     "name": "stdout",
     "output_type": "stream",
     "text": [
      "root\n",
      " |-- name: string (nullable = true)\n",
      " |-- address: string (nullable = true)\n",
      " |-- user_uid: string (nullable = true)\n",
      " |-- cre_datetime: timestamp (nullable = true)\n",
      " |-- name_hashed: string (nullable = true)\n",
      " |-- address_hashed: string (nullable = true)\n",
      " |-- user_uid_hashed: string (nullable = true)\n",
      "\n"
     ]
    }
   ],
   "source": [
    "### Write users_df to PostgreSQL target db Table"
   ]
  },
  {
   "cell_type": "code",
   "execution_count": 16,
   "metadata": {},
   "outputs": [],
   "source": [
    "df_sql.write \\\n",
    "    .format('jdbc') \\\n",
    "    .option('driver', properties['driver']) \\\n",
    "    .option('url', properties['target_url']) \\\n",
    "    .option('user', properties['user']) \\\n",
    "    .option('password', properties['password']) \\\n",
    "    .option('dbtable', properties['dbtable']) \\\n",
    "    .mode('append') \\\n",
    "    .save()"
   ]
  },
  {
   "cell_type": "code",
   "execution_count": null,
   "metadata": {},
   "outputs": [],
   "source": [
    "### read data from PostgreSQL target db Table"
   ]
  },
  {
   "cell_type": "code",
   "execution_count": 17,
   "metadata": {},
   "outputs": [
    {
     "name": "stdout",
     "output_type": "stream",
     "text": [
      "root\n",
      " |-- name: string (nullable = true)\n",
      " |-- address: string (nullable = true)\n",
      " |-- user_uid: string (nullable = true)\n",
      " |-- cre_datetime: timestamp (nullable = true)\n",
      "\n"
     ]
    }
   ],
   "source": [
    "users_df_from_target_db = spark.read \\\n",
    "    .format('jdbc') \\\n",
    "    .option('driver', properties['driver']) \\\n",
    "    .option('url', properties['target_url']) \\\n",
    "    .option('user', properties['user']) \\\n",
    "    .option('password', properties['password']) \\\n",
    "    .option('dbtable', properties['dbtable']) \\\n",
    "    .load()\n",
    "\n",
    "users_df_from_target_db.printSchema()"
   ]
  },
  {
   "cell_type": "code",
   "execution_count": 18,
   "metadata": {},
   "outputs": [
    {
     "name": "stdout",
     "output_type": "stream",
     "text": [
      "+--------------------+--------------------+--------------------+--------------------+\n",
      "|                name|             address|            user_uid|        cre_datetime|\n",
      "+--------------------+--------------------+--------------------+--------------------+\n",
      "|fd1aa8d0bd441275a...|bb9e087631b08eda3...|140bedbf9c3f6d56a...|2022-03-12 19:28:...|\n",
      "|46185a59c07cc6ab8...|29e02c36d792893e1...|f7ab56e55b0a35a11...|2022-03-12 19:28:...|\n",
      "|33ef16bc42d0dcd92...|befa6f7fca9b370e5...|140bedbf9c3f6d56a...|2022-03-12 19:28:...|\n",
      "|46e623e8f41abc5eb...|2e0e640962814f79a...|cf291219e9be361a0...|2022-03-12 19:28:...|\n",
      "|eda0eafffd48a7df9...|a32f5b2f9c54a5bd3...|140bedbf9c3f6d56a...|2022-03-12 19:28:...|\n",
      "|a2f1ac6b5d7e6104a...|f5cd793677a84529e...|4438d389d7709e1e5...|2022-03-12 19:28:...|\n",
      "|c7f9f0661c78bab99...|f564a512d15d7ce58...|140bedbf9c3f6d56a...|2022-03-12 19:28:...|\n",
      "|2026550fc3e67cc3a...|e7147d9715689a178...|b9c85274f66b0716b...|2022-03-12 19:28:...|\n",
      "|ae23696d8db28761f...|6a051be4beb4a54eb...|140bedbf9c3f6d56a...|2022-03-12 19:28:...|\n",
      "|f6cf30676477593a2...|453fc9b5b5da2e27a...|4f10ded91a2a6242b...|2022-03-12 19:28:...|\n",
      "+--------------------+--------------------+--------------------+--------------------+\n",
      "only showing top 10 rows\n",
      "\n"
     ]
    }
   ],
   "source": [
    "users_df_from_target_db.show(10)"
   ]
  },
  {
   "cell_type": "code",
   "execution_count": null,
   "metadata": {},
   "outputs": [],
   "source": []
  }
 ],
 "metadata": {
  "kernelspec": {
   "display_name": "Python 3 (ipykernel)",
   "language": "python",
   "name": "python3"
  },
  "language_info": {
   "codemirror_mode": {
    "name": "ipython",
    "version": 3
   },
   "file_extension": ".py",
   "mimetype": "text/x-python",
   "name": "python",
   "nbconvert_exporter": "python",
   "pygments_lexer": "ipython3",
   "version": "3.9.10"
  },
  "pycharm": {
   "stem_cell": {
    "cell_type": "raw",
    "metadata": {
     "collapsed": false
    },
    "source": []
   }
  }
 },
 "nbformat": 4,
 "nbformat_minor": 4
}
