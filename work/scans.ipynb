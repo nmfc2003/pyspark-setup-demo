{
 "cells": [
  {
   "cell_type": "markdown",
   "metadata": {
    "tags": []
   },
   "source": [
    "# PySpark Notebook\n",
    "1. Run PostgreSQL ddl script\n",
    "2. Load CSV Data files\n",
    "3. Write Data to PostgreSQL source db\n",
    "4. Analyze Data with Spark SQL\n",
    "5. Transform data into hash values\n",
    "6. Write Data to PostgreSQL target db\n",
    "\n",
    "_Prepared by: [Noam Marianne]"
   ]
  },
  {
   "cell_type": "markdown",
   "metadata": {},
   "source": [
    "### Run PostgreSQL Script\n",
    "Run the PostgreSQL sql script"
   ]
  },
  {
   "cell_type": "code",
   "execution_count": 1,
   "metadata": {
    "pycharm": {
     "is_executing": false
    }
   },
   "outputs": [],
   "source": [
    "# ! pip install psycopg2-binary --upgrade --quiet"
   ]
  },
  {
   "cell_type": "code",
   "execution_count": 1,
   "metadata": {
    "pycharm": {
     "is_executing": false
    }
   },
   "outputs": [],
   "source": [
    "%run -i 'scans_ddl.py'"
   ]
  },
  {
   "cell_type": "code",
   "execution_count": 2,
   "metadata": {
    "pycharm": {
     "is_executing": false
    }
   },
   "outputs": [],
   "source": [
    "from pyspark.sql import SparkSession\n",
    "import pyspark.sql.functions as F\n",
    "import hashlib\n",
    "from pyspark.sql.types import StructType, StructField, StringType, IntegerType"
   ]
  },
  {
   "cell_type": "code",
   "execution_count": 3,
   "metadata": {
    "pycharm": {
     "is_executing": false
    }
   },
   "outputs": [],
   "source": [
    "spark = SparkSession \\\n",
    "    .builder \\\n",
    "    .appName('pyspark_demo_app') \\\n",
    "    .config('spark.driver.extraClassPath',\n",
    "            'postgresql-42.2.10.jar') \\\n",
    "    .master(\"local[*]\") \\\n",
    "    .getOrCreate()"
   ]
  },
  {
   "cell_type": "markdown",
   "metadata": {},
   "source": [
    "### declare PostgreSQL source prop\n",
    "Load the PostgreSQL 'bakery_basket' table's contents into a DataFrame"
   ]
  },
  {
   "cell_type": "code",
   "execution_count": 4,
   "metadata": {
    "pycharm": {
     "is_executing": false
    }
   },
   "outputs": [],
   "source": [
    "properties = {\n",
    "    'driver': 'org.postgresql.Driver',\n",
    "    'url': 'jdbc:postgresql://postgres:5432/source',\n",
    "    'target_url': 'jdbc:postgresql://postgres:5432/target',\n",
    "    'user': 'postgres',\n",
    "    'password': 'postgres1234',\n",
    "    'dbtable': 'scans',\n",
    "}"
   ]
  },
  {
   "cell_type": "markdown",
   "metadata": {},
   "source": [
    "### Create schema\n",
    "load users csv into a DataFrame"
   ]
  },
  {
   "cell_type": "code",
   "execution_count": 5,
   "metadata": {
    "pycharm": {
     "is_executing": false
    }
   },
   "outputs": [
    {
     "name": "stdout",
     "output_type": "stream",
     "text": [
      "root\n",
      " |-- study_uid: string (nullable = true)\n",
      " |-- viz_lvo: string (nullable = true)\n",
      " |-- first_acquired: string (nullable = true)\n",
      " |-- patient_first_acquired: string (nullable = true)\n",
      " |-- patient institution: string (nullable = true)\n",
      " |-- patient: string (nullable = true)\n",
      "\n"
     ]
    }
   ],
   "source": [
    "# File location and type\n",
    "file_location = \"input_files/scans_and_viz_results_de.csv\"\n",
    "file_type = \"csv\"\n",
    "\n",
    "# CSV options\n",
    "infer_schema = \"false\"\n",
    "first_row_is_header = \"true\"\n",
    "delimiter = \",\"\n",
    "\n",
    "# The applied options are for CSV files. For other file types, these will be ignored.\n",
    "scans_df = spark.read.format(file_type) \\\n",
    ".option(\"inferSchema\", infer_schema) \\\n",
    ".option(\"header\", first_row_is_header) \\\n",
    ".option(\"sep\", delimiter) \\\n",
    ".load(file_location)\n",
    "\n",
    "scans_df.printSchema()"
   ]
  },
  {
   "cell_type": "code",
   "execution_count": 6,
   "metadata": {},
   "outputs": [
    {
     "name": "stdout",
     "output_type": "stream",
     "text": [
      "+----------------+-------+--------------------+----------------------+-------------------+----------+\n",
      "|       study_uid|viz_lvo|      first_acquired|patient_first_acquired|patient institution|   patient|\n",
      "+----------------+-------+--------------------+----------------------+-------------------+----------+\n",
      "|950cc6a871cb0303|  FALSE|2020-01-13 23:37:...|  2020-01-13 23:37:...|               East|7149a1930c|\n",
      "|9b2536e770e8fa5f|  FALSE|2020-01-10 01:02:...|  2020-01-10 00:52:...|               West|a2305aa197|\n",
      "|a361cd8729754567|  FALSE|2020-03-07 07:51:...|  2020-03-07 07:51:...|              North|69f553c297|\n",
      "|14cdfc53743ae0f9|  FALSE|2020-01-04 01:26:...|  2020-01-04 01:19:...|              North|090a9ae40f|\n",
      "|6f7d2e16f4448806|  FALSE|2020-01-01 09:09:...|  2020-01-01 09:04:...|               West|ea66c29cee|\n",
      "|b1d08eae7a8c3e95|  FALSE|2020-01-26 23:33:...|  2020-01-26 23:29:...|               West|aaf6927bbf|\n",
      "|694b64f805439246|  FALSE|2020-02-29 19:39:...|  2020-02-29 19:32:...|               East|6a7188fd81|\n",
      "|ee08e057b779e95e|  FALSE|2020-01-19 02:23:...|  2020-01-19 02:14:...|               West|c3ec097253|\n",
      "|905a6cddbf17c6a2|  FALSE|2020-02-14 15:58:...|  2020-02-14 15:48:...|               West|09901a0114|\n",
      "|46b1096ebe1dc97a|  FALSE|2020-02-01 22:34:...|  2020-02-01 22:34:...|               West|c686a211dc|\n",
      "|9fb6447f0698049b|  FALSE|2020-02-06 23:41:...|  2020-02-06 23:33:...|              South|652f88fdb5|\n",
      "|4b22331a877d5500|   TRUE|2020-02-18 22:40:...|  2020-02-18 22:30:...|               West|4ad64a9d47|\n",
      "|78b3a6659a6eab53|  FALSE|2020-01-09 18:02:...|  2020-01-09 17:53:...|               East|6071a74aa4|\n",
      "|4746048220c01eb1|  FALSE|2020-01-27 06:43:...|  2020-01-27 06:33:...|               West|8eec567a0c|\n",
      "|e2ae936142b75182|  FALSE|2020-01-02 18:26:...|  2020-01-02 18:26:...|               West|c175f21a72|\n",
      "|dcd9a072d7887528|  FALSE|2020-03-01 04:13:...|  2020-03-01 04:10:...|               West|e8af39b3fb|\n",
      "|84085a41ce514a77|  FALSE|2020-03-16 23:56:...|  2020-03-16 23:52:...|               West|b2131d2d9f|\n",
      "|8f94830149ed1d55|  FALSE|2020-03-23 18:32:...|  2020-03-23 18:27:...|               West|28672d09f0|\n",
      "|df12442f93639fa9|  FALSE|2020-02-13 04:12:...|  2020-02-13 04:03:...|               East|182b8c8103|\n",
      "|f4cd1794080b032b|  FALSE|2020-03-17 19:40:...|  2020-03-17 19:36:...|               West|8a3fca608f|\n",
      "+----------------+-------+--------------------+----------------------+-------------------+----------+\n",
      "only showing top 20 rows\n",
      "\n"
     ]
    },
    {
     "data": {
      "text/plain": [
       "840"
      ]
     },
     "execution_count": 6,
     "metadata": {},
     "output_type": "execute_result"
    }
   ],
   "source": [
    "scans_df.show()\n",
    "scans_df.count()"
   ]
  },
  {
   "cell_type": "code",
   "execution_count": null,
   "metadata": {},
   "outputs": [],
   "source": [
    "### enrich df with cre_datetime column"
   ]
  },
  {
   "cell_type": "code",
   "execution_count": 7,
   "metadata": {},
   "outputs": [
    {
     "name": "stdout",
     "output_type": "stream",
     "text": [
      "root\n",
      " |-- study_uid: string (nullable = true)\n",
      " |-- viz_lvo: string (nullable = true)\n",
      " |-- first_acquired: string (nullable = true)\n",
      " |-- patient_first_acquired: string (nullable = true)\n",
      " |-- patient: string (nullable = true)\n",
      " |-- cre_datetime: timestamp (nullable = false)\n",
      " |-- patient_institution: string (nullable = true)\n",
      "\n"
     ]
    }
   ],
   "source": [
    "scans_df = scans_df.withColumn(\"cre_datetime\",F.current_timestamp())\n",
    "scans_df = scans_df.withColumn(\"patient_institution\",F.col(\"patient institution\"))\n",
    "scans_df = scans_df.drop(F.col(\"patient institution\"))\n",
    "scans_df.printSchema()"
   ]
  },
  {
   "cell_type": "code",
   "execution_count": 8,
   "metadata": {},
   "outputs": [
    {
     "name": "stdout",
     "output_type": "stream",
     "text": [
      "+----------------+-------+--------------------+----------------------+----------+--------------------+-------------------+\n",
      "|       study_uid|viz_lvo|      first_acquired|patient_first_acquired|   patient|        cre_datetime|patient_institution|\n",
      "+----------------+-------+--------------------+----------------------+----------+--------------------+-------------------+\n",
      "|950cc6a871cb0303|  FALSE|2020-01-13 23:37:...|  2020-01-13 23:37:...|7149a1930c|2022-03-12 19:34:...|               East|\n",
      "|9b2536e770e8fa5f|  FALSE|2020-01-10 01:02:...|  2020-01-10 00:52:...|a2305aa197|2022-03-12 19:34:...|               West|\n",
      "|a361cd8729754567|  FALSE|2020-03-07 07:51:...|  2020-03-07 07:51:...|69f553c297|2022-03-12 19:34:...|              North|\n",
      "|14cdfc53743ae0f9|  FALSE|2020-01-04 01:26:...|  2020-01-04 01:19:...|090a9ae40f|2022-03-12 19:34:...|              North|\n",
      "|6f7d2e16f4448806|  FALSE|2020-01-01 09:09:...|  2020-01-01 09:04:...|ea66c29cee|2022-03-12 19:34:...|               West|\n",
      "|b1d08eae7a8c3e95|  FALSE|2020-01-26 23:33:...|  2020-01-26 23:29:...|aaf6927bbf|2022-03-12 19:34:...|               West|\n",
      "|694b64f805439246|  FALSE|2020-02-29 19:39:...|  2020-02-29 19:32:...|6a7188fd81|2022-03-12 19:34:...|               East|\n",
      "|ee08e057b779e95e|  FALSE|2020-01-19 02:23:...|  2020-01-19 02:14:...|c3ec097253|2022-03-12 19:34:...|               West|\n",
      "|905a6cddbf17c6a2|  FALSE|2020-02-14 15:58:...|  2020-02-14 15:48:...|09901a0114|2022-03-12 19:34:...|               West|\n",
      "|46b1096ebe1dc97a|  FALSE|2020-02-01 22:34:...|  2020-02-01 22:34:...|c686a211dc|2022-03-12 19:34:...|               West|\n",
      "|9fb6447f0698049b|  FALSE|2020-02-06 23:41:...|  2020-02-06 23:33:...|652f88fdb5|2022-03-12 19:34:...|              South|\n",
      "|4b22331a877d5500|   TRUE|2020-02-18 22:40:...|  2020-02-18 22:30:...|4ad64a9d47|2022-03-12 19:34:...|               West|\n",
      "|78b3a6659a6eab53|  FALSE|2020-01-09 18:02:...|  2020-01-09 17:53:...|6071a74aa4|2022-03-12 19:34:...|               East|\n",
      "|4746048220c01eb1|  FALSE|2020-01-27 06:43:...|  2020-01-27 06:33:...|8eec567a0c|2022-03-12 19:34:...|               West|\n",
      "|e2ae936142b75182|  FALSE|2020-01-02 18:26:...|  2020-01-02 18:26:...|c175f21a72|2022-03-12 19:34:...|               West|\n",
      "|dcd9a072d7887528|  FALSE|2020-03-01 04:13:...|  2020-03-01 04:10:...|e8af39b3fb|2022-03-12 19:34:...|               West|\n",
      "|84085a41ce514a77|  FALSE|2020-03-16 23:56:...|  2020-03-16 23:52:...|b2131d2d9f|2022-03-12 19:34:...|               West|\n",
      "|8f94830149ed1d55|  FALSE|2020-03-23 18:32:...|  2020-03-23 18:27:...|28672d09f0|2022-03-12 19:34:...|               West|\n",
      "|df12442f93639fa9|  FALSE|2020-02-13 04:12:...|  2020-02-13 04:03:...|182b8c8103|2022-03-12 19:34:...|               East|\n",
      "|f4cd1794080b032b|  FALSE|2020-03-17 19:40:...|  2020-03-17 19:36:...|8a3fca608f|2022-03-12 19:34:...|               West|\n",
      "+----------------+-------+--------------------+----------------------+----------+--------------------+-------------------+\n",
      "only showing top 20 rows\n",
      "\n"
     ]
    }
   ],
   "source": [
    "scans_df.show()"
   ]
  },
  {
   "cell_type": "markdown",
   "metadata": {
    "tags": []
   },
   "source": [
    "### Write to PostgreSQL source db Table"
   ]
  },
  {
   "cell_type": "code",
   "execution_count": 9,
   "metadata": {},
   "outputs": [],
   "source": [
    "scans_df.write \\\n",
    "    .format('jdbc') \\\n",
    "    .option('driver', properties['driver']) \\\n",
    "    .option('url', properties['url']) \\\n",
    "    .option('user', properties['user']) \\\n",
    "    .option('password', properties['password']) \\\n",
    "    .option('dbtable', properties['dbtable']) \\\n",
    "    .mode('append') \\\n",
    "    .save()"
   ]
  },
  {
   "cell_type": "code",
   "execution_count": null,
   "metadata": {},
   "outputs": [],
   "source": [
    "### read data from PostgreSQL source db Table"
   ]
  },
  {
   "cell_type": "code",
   "execution_count": 10,
   "metadata": {},
   "outputs": [
    {
     "name": "stdout",
     "output_type": "stream",
     "text": [
      "root\n",
      " |-- study_uid: string (nullable = true)\n",
      " |-- viz_lvo: string (nullable = true)\n",
      " |-- first_acquired: string (nullable = true)\n",
      " |-- patient_first_acquired: string (nullable = true)\n",
      " |-- patient_institution: string (nullable = true)\n",
      " |-- patient: string (nullable = true)\n",
      " |-- cre_datetime: timestamp (nullable = true)\n",
      "\n"
     ]
    }
   ],
   "source": [
    "scans_df_from_db = spark.read \\\n",
    "    .format('jdbc') \\\n",
    "    .option('driver', properties['driver']) \\\n",
    "    .option('url', properties['url']) \\\n",
    "    .option('user', properties['user']) \\\n",
    "    .option('password', properties['password']) \\\n",
    "    .option('dbtable', properties['dbtable']) \\\n",
    "    .load()\n",
    "\n",
    "scans_df_from_db.printSchema()"
   ]
  },
  {
   "cell_type": "code",
   "execution_count": 11,
   "metadata": {},
   "outputs": [
    {
     "name": "stdout",
     "output_type": "stream",
     "text": [
      "+----------------+-------+--------------------+----------------------+-------------------+----------+--------------------+\n",
      "|       study_uid|viz_lvo|      first_acquired|patient_first_acquired|patient_institution|   patient|        cre_datetime|\n",
      "+----------------+-------+--------------------+----------------------+-------------------+----------+--------------------+\n",
      "|950cc6a871cb0303|  FALSE|2020-01-13 23:37:...|  2020-01-13 23:37:...|               East|7149a1930c|2022-03-12 19:34:...|\n",
      "|9b2536e770e8fa5f|  FALSE|2020-01-10 01:02:...|  2020-01-10 00:52:...|               West|a2305aa197|2022-03-12 19:34:...|\n",
      "|a361cd8729754567|  FALSE|2020-03-07 07:51:...|  2020-03-07 07:51:...|              North|69f553c297|2022-03-12 19:34:...|\n",
      "|14cdfc53743ae0f9|  FALSE|2020-01-04 01:26:...|  2020-01-04 01:19:...|              North|090a9ae40f|2022-03-12 19:34:...|\n",
      "|6f7d2e16f4448806|  FALSE|2020-01-01 09:09:...|  2020-01-01 09:04:...|               West|ea66c29cee|2022-03-12 19:34:...|\n",
      "|b1d08eae7a8c3e95|  FALSE|2020-01-26 23:33:...|  2020-01-26 23:29:...|               West|aaf6927bbf|2022-03-12 19:34:...|\n",
      "|694b64f805439246|  FALSE|2020-02-29 19:39:...|  2020-02-29 19:32:...|               East|6a7188fd81|2022-03-12 19:34:...|\n",
      "|ee08e057b779e95e|  FALSE|2020-01-19 02:23:...|  2020-01-19 02:14:...|               West|c3ec097253|2022-03-12 19:34:...|\n",
      "|905a6cddbf17c6a2|  FALSE|2020-02-14 15:58:...|  2020-02-14 15:48:...|               West|09901a0114|2022-03-12 19:34:...|\n",
      "|46b1096ebe1dc97a|  FALSE|2020-02-01 22:34:...|  2020-02-01 22:34:...|               West|c686a211dc|2022-03-12 19:34:...|\n",
      "+----------------+-------+--------------------+----------------------+-------------------+----------+--------------------+\n",
      "only showing top 10 rows\n",
      "\n"
     ]
    },
    {
     "data": {
      "text/plain": [
       "840"
      ]
     },
     "execution_count": 11,
     "metadata": {},
     "output_type": "execute_result"
    }
   ],
   "source": [
    "scans_df_from_db.show(10)\n",
    "scans_df_from_db.count()"
   ]
  },
  {
   "cell_type": "markdown",
   "metadata": {},
   "source": [
    "### Analyze Data with Spark SQL\n",
    "Analyze the DataFrame's users data using Spark SQL"
   ]
  },
  {
   "cell_type": "code",
   "execution_count": 12,
   "metadata": {},
   "outputs": [
    {
     "name": "stdout",
     "output_type": "stream",
     "text": [
      "+-----------------+--------------------+\n",
      "|cnt_study_with_id|cnt_study_without_id|\n",
      "+-----------------+--------------------+\n",
      "|              840|                   0|\n",
      "+-----------------+--------------------+\n",
      "\n"
     ]
    }
   ],
   "source": [
    "scans_df_from_db.createOrReplaceTempView(\"scans\")\n",
    "df_sql = spark.sql(\"SELECT sum(case when study_uid is null then 0 else 1 end) as cnt_study_with_id, \" +\n",
    "                \"sum(case when study_uid is null then 1 else 0 end) as cnt_study_without_id FROM scans\")\n",
    "df_sql.show(10)"
   ]
  },
  {
   "cell_type": "code",
   "execution_count": null,
   "metadata": {},
   "outputs": [],
   "source": [
    "### Transform Data"
   ]
  },
  {
   "cell_type": "code",
   "execution_count": 13,
   "metadata": {},
   "outputs": [],
   "source": [
    "#   Define the UDF function\n",
    "def algo(input_string):\n",
    "    if (input_string):\n",
    "        encoded_string = input_string.encode(\"utf-8\")\n",
    "    else:\n",
    "        encoded_string = \"none\".encode(\"utf-8\")\n",
    "    return hashlib.sha256(encoded_string).hexdigest()\n",
    "\n",
    "#   Register the UDF function.\n",
    "algo_udf = spark.udf.register(\"algo\", algo)"
   ]
  },
  {
   "cell_type": "code",
   "execution_count": 14,
   "metadata": {},
   "outputs": [
    {
     "name": "stdout",
     "output_type": "stream",
     "text": [
      "+--------------------+-------+--------------------+----------------------+-------------------+--------------------+--------------------+\n",
      "|           study_uid|viz_lvo|      first_acquired|patient_first_acquired|patient_institution|             patient|        cre_datetime|\n",
      "+--------------------+-------+--------------------+----------------------+-------------------+--------------------+--------------------+\n",
      "|4fdadb8aa01868052...|  FALSE|3d86dce3af7956487...|  3d86dce3af7956487...|               East|b151a1325d743ee09...|2022-03-12 19:34:...|\n",
      "|e4a9f87fcd0d0b079...|  FALSE|3681431cb224882b1...|  d5f9771bb4956c027...|               West|460e50aa4fdb85420...|2022-03-12 19:34:...|\n",
      "|ac6a8fbdc13d0fdfb...|  FALSE|8bb37f496c9857d29...|  8bb37f496c9857d29...|              North|e22e13e3e5c891ee8...|2022-03-12 19:34:...|\n",
      "|cf5421cddb04d6dda...|  FALSE|bb04067f43524de9c...|  591ae5d0aa8d39748...|              North|682c3e7894ba8929b...|2022-03-12 19:34:...|\n",
      "|c916ca091775d8ce2...|  FALSE|f2c182b59e5699130...|  176ce85979c3e425d...|               West|648f3074ccbd32930...|2022-03-12 19:34:...|\n",
      "|fbad3b2105a09aba2...|  FALSE|b067b943a7b90ae98...|  3c4e44db70383c69d...|               West|a2941fe938223738a...|2022-03-12 19:34:...|\n",
      "|c02d7287c7a3a3c66...|  FALSE|10c1a22f5fdf34290...|  86c4bdf2b8896bfcd...|               East|1a12a84e4f8b922a8...|2022-03-12 19:34:...|\n",
      "|3f5e22d1e0782cfe1...|  FALSE|af70bad23bd80c3cb...|  872696425f21d7189...|               West|16cc5829cc09e97aa...|2022-03-12 19:34:...|\n",
      "|f53684518a645ae49...|  FALSE|d614b82a089933b1d...|  29a6fd7be1086ef6c...|               West|6dcb59cd1bc249395...|2022-03-12 19:34:...|\n",
      "|832b6bc0dfbadab56...|  FALSE|33790aac5df70cc51...|  33790aac5df70cc51...|               West|9349e452ef90aeac1...|2022-03-12 19:34:...|\n",
      "+--------------------+-------+--------------------+----------------------+-------------------+--------------------+--------------------+\n",
      "only showing top 10 rows\n",
      "\n"
     ]
    }
   ],
   "source": [
    "scans_df_from_db.createOrReplaceTempView(\"scans\")\n",
    "df_sql = spark.sql(\"SELECT algo(study_uid) as study_uid, viz_lvo, algo(first_acquired) as first_acquired, algo(patient_first_acquired) as patient_first_acquired, patient_institution, algo(patient) as patient, current_timestamp() as cre_datetime FROM scans\")\n",
    "df_sql.show(10)"
   ]
  },
  {
   "cell_type": "code",
   "execution_count": 8,
   "metadata": {},
   "outputs": [
    {
     "name": "stdout",
     "output_type": "stream",
     "text": [
      "root\n",
      " |-- name: string (nullable = true)\n",
      " |-- address: string (nullable = true)\n",
      " |-- user_uid: string (nullable = true)\n",
      " |-- cre_datetime: timestamp (nullable = true)\n",
      " |-- name_hashed: string (nullable = true)\n",
      " |-- address_hashed: string (nullable = true)\n",
      " |-- user_uid_hashed: string (nullable = true)\n",
      "\n"
     ]
    }
   ],
   "source": [
    "### Write users_df to PostgreSQL target db Table"
   ]
  },
  {
   "cell_type": "code",
   "execution_count": 15,
   "metadata": {},
   "outputs": [],
   "source": [
    "df_sql.write \\\n",
    "    .format('jdbc') \\\n",
    "    .option('driver', properties['driver']) \\\n",
    "    .option('url', properties['target_url']) \\\n",
    "    .option('user', properties['user']) \\\n",
    "    .option('password', properties['password']) \\\n",
    "    .option('dbtable', properties['dbtable']) \\\n",
    "    .mode('append') \\\n",
    "    .save()"
   ]
  },
  {
   "cell_type": "code",
   "execution_count": null,
   "metadata": {},
   "outputs": [],
   "source": [
    "### read data from PostgreSQL target db Table"
   ]
  },
  {
   "cell_type": "code",
   "execution_count": 16,
   "metadata": {},
   "outputs": [
    {
     "name": "stdout",
     "output_type": "stream",
     "text": [
      "root\n",
      " |-- study_uid: string (nullable = true)\n",
      " |-- viz_lvo: string (nullable = true)\n",
      " |-- first_acquired: string (nullable = true)\n",
      " |-- patient_first_acquired: string (nullable = true)\n",
      " |-- patient_institution: string (nullable = true)\n",
      " |-- patient: string (nullable = true)\n",
      " |-- cre_datetime: timestamp (nullable = true)\n",
      "\n"
     ]
    }
   ],
   "source": [
    "scans_df_from_target_db = spark.read \\\n",
    "    .format('jdbc') \\\n",
    "    .option('driver', properties['driver']) \\\n",
    "    .option('url', properties['target_url']) \\\n",
    "    .option('user', properties['user']) \\\n",
    "    .option('password', properties['password']) \\\n",
    "    .option('dbtable', properties['dbtable']) \\\n",
    "    .load()\n",
    "\n",
    "scans_df_from_target_db.printSchema()"
   ]
  },
  {
   "cell_type": "code",
   "execution_count": 17,
   "metadata": {},
   "outputs": [
    {
     "name": "stdout",
     "output_type": "stream",
     "text": [
      "+--------------------+-------+--------------------+----------------------+-------------------+--------------------+--------------------+\n",
      "|           study_uid|viz_lvo|      first_acquired|patient_first_acquired|patient_institution|             patient|        cre_datetime|\n",
      "+--------------------+-------+--------------------+----------------------+-------------------+--------------------+--------------------+\n",
      "|4fdadb8aa01868052...|  FALSE|3d86dce3af7956487...|  3d86dce3af7956487...|               East|b151a1325d743ee09...|2022-03-12 19:34:...|\n",
      "|e4a9f87fcd0d0b079...|  FALSE|3681431cb224882b1...|  d5f9771bb4956c027...|               West|460e50aa4fdb85420...|2022-03-12 19:34:...|\n",
      "|ac6a8fbdc13d0fdfb...|  FALSE|8bb37f496c9857d29...|  8bb37f496c9857d29...|              North|e22e13e3e5c891ee8...|2022-03-12 19:34:...|\n",
      "|cf5421cddb04d6dda...|  FALSE|bb04067f43524de9c...|  591ae5d0aa8d39748...|              North|682c3e7894ba8929b...|2022-03-12 19:34:...|\n",
      "|c916ca091775d8ce2...|  FALSE|f2c182b59e5699130...|  176ce85979c3e425d...|               West|648f3074ccbd32930...|2022-03-12 19:34:...|\n",
      "|fbad3b2105a09aba2...|  FALSE|b067b943a7b90ae98...|  3c4e44db70383c69d...|               West|a2941fe938223738a...|2022-03-12 19:34:...|\n",
      "|c02d7287c7a3a3c66...|  FALSE|10c1a22f5fdf34290...|  86c4bdf2b8896bfcd...|               East|1a12a84e4f8b922a8...|2022-03-12 19:34:...|\n",
      "|3f5e22d1e0782cfe1...|  FALSE|af70bad23bd80c3cb...|  872696425f21d7189...|               West|16cc5829cc09e97aa...|2022-03-12 19:34:...|\n",
      "|f53684518a645ae49...|  FALSE|d614b82a089933b1d...|  29a6fd7be1086ef6c...|               West|6dcb59cd1bc249395...|2022-03-12 19:34:...|\n",
      "|832b6bc0dfbadab56...|  FALSE|33790aac5df70cc51...|  33790aac5df70cc51...|               West|9349e452ef90aeac1...|2022-03-12 19:34:...|\n",
      "+--------------------+-------+--------------------+----------------------+-------------------+--------------------+--------------------+\n",
      "only showing top 10 rows\n",
      "\n"
     ]
    }
   ],
   "source": [
    "scans_df_from_target_db.show(10)"
   ]
  },
  {
   "cell_type": "code",
   "execution_count": null,
   "metadata": {},
   "outputs": [],
   "source": []
  }
 ],
 "metadata": {
  "kernelspec": {
   "display_name": "Python 3 (ipykernel)",
   "language": "python",
   "name": "python3"
  },
  "language_info": {
   "codemirror_mode": {
    "name": "ipython",
    "version": 3
   },
   "file_extension": ".py",
   "mimetype": "text/x-python",
   "name": "python",
   "nbconvert_exporter": "python",
   "pygments_lexer": "ipython3",
   "version": "3.9.10"
  },
  "pycharm": {
   "stem_cell": {
    "cell_type": "raw",
    "metadata": {
     "collapsed": false
    },
    "source": []
   }
  }
 },
 "nbformat": 4,
 "nbformat_minor": 4
}
